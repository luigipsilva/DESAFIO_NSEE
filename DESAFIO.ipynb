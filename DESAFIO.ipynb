{
 "cells": [
  {
   "cell_type": "code",
   "execution_count": 37,
   "metadata": {},
   "outputs": [],
   "source": [
    "from dbfread import DBF\n",
    "import pandas as pd\n",
    "from simpledbf import Dbf5\n",
    "from datetime import datetime\n",
    "import numpy as np\n",
    "from sklearn.preprocessing import LabelEncoder\n",
    "from sklearn.model_selection import train_test_split\n",
    "from imblearn.over_sampling import SMOTE\n",
    "from sklearn.model_selection import  cross_val_score\n",
    "from sklearn.ensemble import RandomForestClassifier\n",
    "from sklearn.metrics import classification_report"
   ]
  },
  {
   "cell_type": "code",
   "execution_count": 2,
   "metadata": {},
   "outputs": [],
   "source": [
    "def remover(df, colunas):\n",
    "    return df.drop(columns=colunas, errors='ignore')"
   ]
  },
  {
   "cell_type": "code",
   "execution_count": 3,
   "metadata": {},
   "outputs": [],
   "source": [
    "def binario(colunaA):\n",
    "    empty = []\n",
    "    colunaA = colunaA.to_list()  \n",
    "    for valor in colunaA:\n",
    "        if valor in [1, 2]:  \n",
    "            empty.append(1)\n",
    "        else:\n",
    "            empty.append(0)\n",
    "    return empty"
   ]
  },
  {
   "cell_type": "code",
   "execution_count": 4,
   "metadata": {},
   "outputs": [],
   "source": [
    "def extrair(colunaA):\n",
    "    empty = []\n",
    "    \n",
    "    for stra in colunaA:\n",
    "        if pd.isna(stra): \n",
    "            empty.append(np.nan)  \n",
    "            continue\n",
    "        try:\n",
    "            stra_value = stra.split(\" \")[1]  \n",
    "            empty.append(stra_value)  \n",
    "        except IndexError:\n",
    "            empty.append(np.nan)  \n",
    "        except Exception as e:\n",
    "            print(f\"Error processing entry '{stra}': {e}\")\n",
    "            empty.append(np.nan)\n",
    "\n",
    "    return empty"
   ]
  },
  {
   "cell_type": "code",
   "execution_count": 5,
   "metadata": {},
   "outputs": [],
   "source": [
    "def diferencaA(colunaA, colunaB):\n",
    "    empty = []\n",
    "    colunaA = colunaA.to_list()\n",
    "    colunaB = colunaB.to_list()\n",
    "    for i in range(len(colunaA)):\n",
    "        date_format = \"%Y-%m-%d\"\n",
    "        coluna_a = datetime.strptime(colunaA[i], date_format)\n",
    "        coluna_b = datetime.strptime(colunaB[i], date_format)\n",
    "        dif = (coluna_b - coluna_a).days\n",
    "        if dif <= 30 :\n",
    "            empty.append(0)\n",
    "        elif dif <= 60 :\n",
    "            empty.append(1)\n",
    "        else:\n",
    "            empty.append(2)\n",
    "    return empty"
   ]
  },
  {
   "cell_type": "code",
   "execution_count": 6,
   "metadata": {},
   "outputs": [],
   "source": [
    "def diferencaB(colunaA, colunaB):\n",
    "\n",
    "    colunaA = colunaA.to_list()\n",
    "    colunaB = colunaB.to_list()\n",
    "    \n",
    "    empty = []\n",
    "    date_format = \"%Y-%m-%d\" \n",
    "    \n",
    "    for date_a, date_b in zip(colunaA, colunaB):\n",
    "        if pd.isna(date_a) or pd.isna(date_b):\n",
    "            empty.append('Não tratou')\n",
    "            continue\n",
    "\n",
    "        coluna_a = datetime.strptime(date_a, date_format)\n",
    "        coluna_b = datetime.strptime(date_b, date_format)\n",
    "        dif = (coluna_b - coluna_a).days\n",
    "\n",
    "        if dif <= 30:\n",
    "            empty.append(0)\n",
    "        elif dif <= 60:\n",
    "            empty.append(1)\n",
    "        elif dif <= 90:\n",
    "            empty.append(2)\n",
    "        else:\n",
    "            empty.append('Não tratou')\n",
    "\n",
    "    return empty"
   ]
  },
  {
   "cell_type": "code",
   "execution_count": 7,
   "metadata": {},
   "outputs": [],
   "source": [
    "dbfile = Dbf5('pacigeral_jun24.dbf', codec='latin-1')\n",
    "dbfile.to_csv(\"paciente_geral_v2.csv\")\n",
    "pd.set_option('display.max_columns', None)\n"
   ]
  },
  {
   "cell_type": "code",
   "execution_count": 8,
   "metadata": {},
   "outputs": [
    {
     "name": "stderr",
     "output_type": "stream",
     "text": [
      "C:\\Users\\silva\\AppData\\Local\\Temp\\ipykernel_8244\\4039390663.py:1: DtypeWarning: Columns (37,38,39,40,77,78,79,82,93,94,95) have mixed types. Specify dtype option on import or set low_memory=False.\n",
      "  df = pd.read_csv('paciente_geral_v2.csv', encoding='latin-1', sep=',')\n"
     ]
    }
   ],
   "source": [
    "df = pd.read_csv('paciente_geral_v2.csv', encoding='latin-1', sep=',')"
   ]
  },
  {
   "cell_type": "code",
   "execution_count": 9,
   "metadata": {},
   "outputs": [
    {
     "data": {
      "text/plain": [
       "(56800, 105)"
      ]
     },
     "execution_count": 9,
     "metadata": {},
     "output_type": "execute_result"
    }
   ],
   "source": [
    "# 1)\n",
    "df_ajustado = df[df['TOPOGRUP'] == 'C34']\n",
    "df_ajustado.shape\n"
   ]
  },
  {
   "cell_type": "code",
   "execution_count": 10,
   "metadata": {},
   "outputs": [
    {
     "data": {
      "text/plain": [
       "(52205, 105)"
      ]
     },
     "execution_count": 10,
     "metadata": {},
     "output_type": "execute_result"
    }
   ],
   "source": [
    "# 2)\n",
    "df_ajustado = df_ajustado[df_ajustado['UFRESID'] == 'SP']\n",
    "df_ajustado.shape"
   ]
  },
  {
   "cell_type": "code",
   "execution_count": 11,
   "metadata": {},
   "outputs": [
    {
     "data": {
      "text/plain": [
       "(50583, 105)"
      ]
     },
     "execution_count": 11,
     "metadata": {},
     "output_type": "execute_result"
    }
   ],
   "source": [
    "# 3)\n",
    "df_ajustado = df_ajustado[df_ajustado['BASEDIAG'] == 3] \n",
    "df_ajustado.shape"
   ]
  },
  {
   "cell_type": "code",
   "execution_count": 12,
   "metadata": {},
   "outputs": [
    {
     "data": {
      "text/plain": [
       "(45452, 105)"
      ]
     },
     "execution_count": 12,
     "metadata": {},
     "output_type": "execute_result"
    }
   ],
   "source": [
    "# 4)\n",
    "df_ajustado = df_ajustado[(df_ajustado['ECGRUP'] != 0) & (df_ajustado['ECGRUP'] != 'X') & (df_ajustado['ECGRUP'] != 'Y')]\n",
    "df_ajustado.shape"
   ]
  },
  {
   "cell_type": "code",
   "execution_count": 13,
   "metadata": {},
   "outputs": [
    {
     "data": {
      "text/plain": [
       "(45241, 105)"
      ]
     },
     "execution_count": 13,
     "metadata": {},
     "output_type": "execute_result"
    }
   ],
   "source": [
    "# 5)\n",
    "df_ajustado = df_ajustado[(df_ajustado['HORMONIO'] != 1) & (df_ajustado['TMO'] != 1)]\n",
    "df_ajustado.shape"
   ]
  },
  {
   "cell_type": "code",
   "execution_count": 14,
   "metadata": {},
   "outputs": [
    {
     "data": {
      "text/plain": [
       "(38771, 105)"
      ]
     },
     "execution_count": 14,
     "metadata": {},
     "output_type": "execute_result"
    }
   ],
   "source": [
    "# 6)\n",
    "df_ajustado = df_ajustado[df_ajustado['ANODIAG'] <= 2019]\n",
    "df_ajustado.shape"
   ]
  },
  {
   "cell_type": "code",
   "execution_count": 15,
   "metadata": {},
   "outputs": [
    {
     "data": {
      "text/plain": [
       "(38759, 105)"
      ]
     },
     "execution_count": 15,
     "metadata": {},
     "output_type": "execute_result"
    }
   ],
   "source": [
    "# 7)\n",
    "df_ajustado = df_ajustado[df_ajustado['IDADE'] >= 20]\n",
    "df_ajustado.shape\n"
   ]
  },
  {
   "cell_type": "code",
   "execution_count": 16,
   "metadata": {},
   "outputs": [
    {
     "data": {
      "text/plain": [
       "(38759, 105)"
      ]
     },
     "execution_count": 16,
     "metadata": {},
     "output_type": "execute_result"
    }
   ],
   "source": [
    "# 8.1)\n",
    "df_ajustado['CONSDIAG'] = diferencaA(df_ajustado['DTCONSULT'], df_ajustado['DTDIAG'])\n",
    "df_ajustado.shape"
   ]
  },
  {
   "cell_type": "code",
   "execution_count": 17,
   "metadata": {},
   "outputs": [
    {
     "data": {
      "text/plain": [
       "(38759, 105)"
      ]
     },
     "execution_count": 17,
     "metadata": {},
     "output_type": "execute_result"
    }
   ],
   "source": [
    "# 8.2)\n",
    "df_ajustado['DIAGTRAT'] = diferencaB(df_ajustado['DTDIAG'], df_ajustado['DTTRAT'])\n",
    "df_ajustado.shape"
   ]
  },
  {
   "cell_type": "code",
   "execution_count": 18,
   "metadata": {},
   "outputs": [
    {
     "data": {
      "text/plain": [
       "(38759, 105)"
      ]
     },
     "execution_count": 18,
     "metadata": {},
     "output_type": "execute_result"
    }
   ],
   "source": [
    "# 8.3)\n",
    "df_ajustado['TRATCONS'] = diferencaB(df_ajustado['DTCONSULT'], df_ajustado['DTTRAT'])\n",
    "df_ajustado.shape"
   ]
  },
  {
   "cell_type": "code",
   "execution_count": 19,
   "metadata": {},
   "outputs": [
    {
     "data": {
      "text/plain": [
       "(38759, 105)"
      ]
     },
     "execution_count": 19,
     "metadata": {},
     "output_type": "execute_result"
    }
   ],
   "source": [
    "# 9.1)\n",
    "df_ajustado['DRS'] = extrair(df_ajustado['DRS'])\n",
    "df_ajustado.shape"
   ]
  },
  {
   "cell_type": "code",
   "execution_count": 20,
   "metadata": {},
   "outputs": [
    {
     "data": {
      "text/plain": [
       "(38759, 105)"
      ]
     },
     "execution_count": 20,
     "metadata": {},
     "output_type": "execute_result"
    }
   ],
   "source": [
    "# 9.2)\n",
    "df_ajustado['DRSINST'] = extrair(df_ajustado['DRSINST'])\n",
    "df_ajustado.shape"
   ]
  },
  {
   "cell_type": "code",
   "execution_count": 21,
   "metadata": {},
   "outputs": [
    {
     "data": {
      "text/plain": [
       "(38759, 106)"
      ]
     },
     "execution_count": 21,
     "metadata": {},
     "output_type": "execute_result"
    }
   ],
   "source": [
    "# 10)\n",
    "df_ajustado['OBITO'] = binario(df_ajustado['ULTINFO'])\n",
    "df_ajustado.shape"
   ]
  },
  {
   "cell_type": "code",
   "execution_count": 22,
   "metadata": {},
   "outputs": [
    {
     "data": {
      "text/plain": [
       "(38759, 38)"
      ]
     },
     "execution_count": 22,
     "metadata": {},
     "output_type": "execute_result"
    }
   ],
   "source": [
    "# 11)\n",
    "df_ajustado = remover(df_ajustado,[\"UFNASC\", \"UFRESID\", \"CIDADE\", \"DTCONSULT\", \"CLINICA\", \"DTDIAG\",\n",
    "\"BASEDIAG\", \"TOPOGRUP\", \"DESCTOPO\", \"DESCMORFO\", \"T\", \"N\",\n",
    "\"M\", \"PT\", \"PN\", \"PM\", \"S\", \"G\", \"LOCALTNM\", \"IDMITOTIC\",\n",
    "\"PSA\", \"GLEASON\", \"OUTRACLA\", \"META01\", \"META02\", \"META03\",\n",
    "\"META04\", \"DTTRAT\", \"NAOTRAT\", \"TRATAMENTO\", \"TRATHOSP\",\n",
    "\"TRATFANTES\", \"TRATFAPOS\", \"HORMONIO\", \"TMO\", \"NENHUMANT\",\n",
    "\"CIRURANT\", \"RADIOANT\", \"QUIMIOANT\", \"HORMOANT\", \"TMOANT\",\n",
    "\"IMUNOANT\", \"OUTROANT\", \"HORMOAPOS\", \"TMOAPOS\", \"DTULTINFO\",\n",
    "\"CICI\", \"CICIGRUP\", \"CICISUBGRU\", \"FAIXAETAR\", \"LATERALI\",\n",
    "\"INSTORIG\", \"RRAS\", \"ERRO\", \"DTRECIDIVA\", \"RECNENHUM\",\n",
    "\"RECLOCAL\", \"RECREGIO\", \"RECDIST\", \"REC01\", \"REC02\",\n",
    "\"REC03\", \"REC04\", \"CID\", \"DSCCIDO\", \"HABILIT\", \"HABIT11\",\n",
    "\"HABILIT1\", \"CIDADEH\", \"PERDASEG\"])\n",
    "df_ajustado.shape"
   ]
  },
  {
   "cell_type": "code",
   "execution_count": 23,
   "metadata": {},
   "outputs": [
    {
     "data": {
      "text/html": [
       "<div>\n",
       "<style scoped>\n",
       "    .dataframe tbody tr th:only-of-type {\n",
       "        vertical-align: middle;\n",
       "    }\n",
       "\n",
       "    .dataframe tbody tr th {\n",
       "        vertical-align: top;\n",
       "    }\n",
       "\n",
       "    .dataframe thead th {\n",
       "        text-align: right;\n",
       "    }\n",
       "</style>\n",
       "<table border=\"1\" class=\"dataframe\">\n",
       "  <thead>\n",
       "    <tr style=\"text-align: right;\">\n",
       "      <th></th>\n",
       "      <th>INSTITU</th>\n",
       "      <th>DSCINST</th>\n",
       "      <th>ESCOLARI</th>\n",
       "      <th>IDADE</th>\n",
       "      <th>SEXO</th>\n",
       "      <th>IBGE</th>\n",
       "      <th>CATEATEND</th>\n",
       "      <th>DIAGPREV</th>\n",
       "      <th>TOPO</th>\n",
       "      <th>MORFO</th>\n",
       "      <th>CIDO</th>\n",
       "      <th>DESCIDO</th>\n",
       "      <th>EC</th>\n",
       "      <th>ECGRUP</th>\n",
       "      <th>NENHUM</th>\n",
       "      <th>CIRURGIA</th>\n",
       "      <th>RADIO</th>\n",
       "      <th>QUIMIO</th>\n",
       "      <th>IMUNO</th>\n",
       "      <th>OUTROS</th>\n",
       "      <th>NENHUMAPOS</th>\n",
       "      <th>CIRURAPOS</th>\n",
       "      <th>RADIOAPOS</th>\n",
       "      <th>QUIMIOAPOS</th>\n",
       "      <th>IMUNOAPOS</th>\n",
       "      <th>OUTROAPOS</th>\n",
       "      <th>ULTINFO</th>\n",
       "      <th>CONSDIAG</th>\n",
       "      <th>TRATCONS</th>\n",
       "      <th>DIAGTRAT</th>\n",
       "      <th>ANODIAG</th>\n",
       "      <th>DRS</th>\n",
       "      <th>IBGEATEN</th>\n",
       "      <th>DRSINST</th>\n",
       "      <th>RRASINST</th>\n",
       "      <th>CIDADEINST</th>\n",
       "      <th>HABILIT2</th>\n",
       "      <th>OBITO</th>\n",
       "    </tr>\n",
       "  </thead>\n",
       "  <tbody>\n",
       "    <tr>\n",
       "      <th>169</th>\n",
       "      <td>20230</td>\n",
       "      <td>SANTA CASA DE ARARAS</td>\n",
       "      <td>9</td>\n",
       "      <td>73</td>\n",
       "      <td>1</td>\n",
       "      <td>3503307</td>\n",
       "      <td>9</td>\n",
       "      <td>2</td>\n",
       "      <td>C340</td>\n",
       "      <td>82513</td>\n",
       "      <td>82513.0</td>\n",
       "      <td>ADENOCARCINOMA ALVEOLAR</td>\n",
       "      <td>IB</td>\n",
       "      <td>I</td>\n",
       "      <td>0</td>\n",
       "      <td>1</td>\n",
       "      <td>0</td>\n",
       "      <td>1</td>\n",
       "      <td>0</td>\n",
       "      <td>0</td>\n",
       "      <td>1</td>\n",
       "      <td>0</td>\n",
       "      <td>0</td>\n",
       "      <td>0</td>\n",
       "      <td>0</td>\n",
       "      <td>0</td>\n",
       "      <td>3</td>\n",
       "      <td>0</td>\n",
       "      <td>0</td>\n",
       "      <td>0</td>\n",
       "      <td>2002</td>\n",
       "      <td>10</td>\n",
       "      <td>3503307</td>\n",
       "      <td>10</td>\n",
       "      <td>RRAS 14</td>\n",
       "      <td>ARARAS</td>\n",
       "      <td>1</td>\n",
       "      <td>0</td>\n",
       "    </tr>\n",
       "    <tr>\n",
       "      <th>171</th>\n",
       "      <td>20621</td>\n",
       "      <td>SANTA CASA DE ARARAQUARA</td>\n",
       "      <td>9</td>\n",
       "      <td>67</td>\n",
       "      <td>2</td>\n",
       "      <td>3529302</td>\n",
       "      <td>9</td>\n",
       "      <td>1</td>\n",
       "      <td>C340</td>\n",
       "      <td>82513</td>\n",
       "      <td>82513.0</td>\n",
       "      <td>ADENOCARCINOMA ALVEOLAR</td>\n",
       "      <td>IIIB</td>\n",
       "      <td>III</td>\n",
       "      <td>0</td>\n",
       "      <td>0</td>\n",
       "      <td>0</td>\n",
       "      <td>1</td>\n",
       "      <td>0</td>\n",
       "      <td>0</td>\n",
       "      <td>1</td>\n",
       "      <td>0</td>\n",
       "      <td>0</td>\n",
       "      <td>0</td>\n",
       "      <td>0</td>\n",
       "      <td>0</td>\n",
       "      <td>1</td>\n",
       "      <td>0</td>\n",
       "      <td>0</td>\n",
       "      <td>0</td>\n",
       "      <td>2004</td>\n",
       "      <td>03</td>\n",
       "      <td>3503208</td>\n",
       "      <td>03</td>\n",
       "      <td>RRAS 18</td>\n",
       "      <td>ARARAQUARA</td>\n",
       "      <td>1</td>\n",
       "      <td>1</td>\n",
       "    </tr>\n",
       "    <tr>\n",
       "      <th>172</th>\n",
       "      <td>18058</td>\n",
       "      <td>HOSP ANCHIETA  FUNDACAO ABC</td>\n",
       "      <td>2</td>\n",
       "      <td>72</td>\n",
       "      <td>2</td>\n",
       "      <td>3548708</td>\n",
       "      <td>2</td>\n",
       "      <td>2</td>\n",
       "      <td>C340</td>\n",
       "      <td>82513</td>\n",
       "      <td>82513.0</td>\n",
       "      <td>ADENOCARCINOMA ALVEOLAR</td>\n",
       "      <td>IV</td>\n",
       "      <td>IV</td>\n",
       "      <td>0</td>\n",
       "      <td>0</td>\n",
       "      <td>1</td>\n",
       "      <td>0</td>\n",
       "      <td>0</td>\n",
       "      <td>0</td>\n",
       "      <td>1</td>\n",
       "      <td>0</td>\n",
       "      <td>0</td>\n",
       "      <td>0</td>\n",
       "      <td>0</td>\n",
       "      <td>0</td>\n",
       "      <td>3</td>\n",
       "      <td>0</td>\n",
       "      <td>1</td>\n",
       "      <td>2</td>\n",
       "      <td>2016</td>\n",
       "      <td>01</td>\n",
       "      <td>3548708</td>\n",
       "      <td>01</td>\n",
       "      <td>RRAS 01</td>\n",
       "      <td>SAO BERNARDO DO CAMPO</td>\n",
       "      <td>1</td>\n",
       "      <td>0</td>\n",
       "    </tr>\n",
       "    <tr>\n",
       "      <th>173</th>\n",
       "      <td>19976</td>\n",
       "      <td>HOSP MAT CELSO PIERRO  PUCC</td>\n",
       "      <td>9</td>\n",
       "      <td>65</td>\n",
       "      <td>2</td>\n",
       "      <td>3501608</td>\n",
       "      <td>9</td>\n",
       "      <td>2</td>\n",
       "      <td>C340</td>\n",
       "      <td>82513</td>\n",
       "      <td>82513.0</td>\n",
       "      <td>ADENOCARCINOMA ALVEOLAR</td>\n",
       "      <td>IB</td>\n",
       "      <td>I</td>\n",
       "      <td>0</td>\n",
       "      <td>0</td>\n",
       "      <td>0</td>\n",
       "      <td>1</td>\n",
       "      <td>0</td>\n",
       "      <td>1</td>\n",
       "      <td>0</td>\n",
       "      <td>0</td>\n",
       "      <td>0</td>\n",
       "      <td>0</td>\n",
       "      <td>0</td>\n",
       "      <td>1</td>\n",
       "      <td>1</td>\n",
       "      <td>0</td>\n",
       "      <td>0</td>\n",
       "      <td>1</td>\n",
       "      <td>2010</td>\n",
       "      <td>07</td>\n",
       "      <td>3509502</td>\n",
       "      <td>07</td>\n",
       "      <td>RRAS 15</td>\n",
       "      <td>CAMPINAS</td>\n",
       "      <td>1</td>\n",
       "      <td>1</td>\n",
       "    </tr>\n",
       "    <tr>\n",
       "      <th>174</th>\n",
       "      <td>18058</td>\n",
       "      <td>HOSP ANCHIETA  FUNDACAO ABC</td>\n",
       "      <td>3</td>\n",
       "      <td>63</td>\n",
       "      <td>1</td>\n",
       "      <td>3548708</td>\n",
       "      <td>2</td>\n",
       "      <td>2</td>\n",
       "      <td>C340</td>\n",
       "      <td>82513</td>\n",
       "      <td>82513.0</td>\n",
       "      <td>ADENOCARCINOMA ALVEOLAR</td>\n",
       "      <td>IV</td>\n",
       "      <td>IV</td>\n",
       "      <td>0</td>\n",
       "      <td>0</td>\n",
       "      <td>0</td>\n",
       "      <td>1</td>\n",
       "      <td>0</td>\n",
       "      <td>1</td>\n",
       "      <td>1</td>\n",
       "      <td>0</td>\n",
       "      <td>0</td>\n",
       "      <td>0</td>\n",
       "      <td>0</td>\n",
       "      <td>0</td>\n",
       "      <td>3</td>\n",
       "      <td>0</td>\n",
       "      <td>0</td>\n",
       "      <td>2</td>\n",
       "      <td>2015</td>\n",
       "      <td>01</td>\n",
       "      <td>3548708</td>\n",
       "      <td>01</td>\n",
       "      <td>RRAS 01</td>\n",
       "      <td>SAO BERNARDO DO CAMPO</td>\n",
       "      <td>1</td>\n",
       "      <td>0</td>\n",
       "    </tr>\n",
       "  </tbody>\n",
       "</table>\n",
       "</div>"
      ],
      "text/plain": [
       "     INSTITU                      DSCINST  ESCOLARI  IDADE  SEXO     IBGE  \\\n",
       "169    20230         SANTA CASA DE ARARAS         9     73     1  3503307   \n",
       "171    20621     SANTA CASA DE ARARAQUARA         9     67     2  3529302   \n",
       "172    18058  HOSP ANCHIETA  FUNDACAO ABC         2     72     2  3548708   \n",
       "173    19976  HOSP MAT CELSO PIERRO  PUCC         9     65     2  3501608   \n",
       "174    18058  HOSP ANCHIETA  FUNDACAO ABC         3     63     1  3548708   \n",
       "\n",
       "     CATEATEND  DIAGPREV  TOPO  MORFO     CIDO                  DESCIDO    EC  \\\n",
       "169          9         2  C340  82513  82513.0  ADENOCARCINOMA ALVEOLAR    IB   \n",
       "171          9         1  C340  82513  82513.0  ADENOCARCINOMA ALVEOLAR  IIIB   \n",
       "172          2         2  C340  82513  82513.0  ADENOCARCINOMA ALVEOLAR    IV   \n",
       "173          9         2  C340  82513  82513.0  ADENOCARCINOMA ALVEOLAR    IB   \n",
       "174          2         2  C340  82513  82513.0  ADENOCARCINOMA ALVEOLAR    IV   \n",
       "\n",
       "    ECGRUP  NENHUM  CIRURGIA  RADIO  QUIMIO  IMUNO  OUTROS  NENHUMAPOS  \\\n",
       "169      I       0         1      0       1      0       0           1   \n",
       "171    III       0         0      0       1      0       0           1   \n",
       "172     IV       0         0      1       0      0       0           1   \n",
       "173      I       0         0      0       1      0       1           0   \n",
       "174     IV       0         0      0       1      0       1           1   \n",
       "\n",
       "     CIRURAPOS  RADIOAPOS  QUIMIOAPOS  IMUNOAPOS  OUTROAPOS  ULTINFO  \\\n",
       "169          0          0           0          0          0        3   \n",
       "171          0          0           0          0          0        1   \n",
       "172          0          0           0          0          0        3   \n",
       "173          0          0           0          0          1        1   \n",
       "174          0          0           0          0          0        3   \n",
       "\n",
       "     CONSDIAG TRATCONS DIAGTRAT  ANODIAG DRS  IBGEATEN DRSINST RRASINST  \\\n",
       "169         0        0        0     2002  10   3503307      10  RRAS 14   \n",
       "171         0        0        0     2004  03   3503208      03  RRAS 18   \n",
       "172         0        1        2     2016  01   3548708      01  RRAS 01   \n",
       "173         0        0        1     2010  07   3509502      07  RRAS 15   \n",
       "174         0        0        2     2015  01   3548708      01  RRAS 01   \n",
       "\n",
       "                CIDADEINST  HABILIT2  OBITO  \n",
       "169                 ARARAS         1      0  \n",
       "171             ARARAQUARA         1      1  \n",
       "172  SAO BERNARDO DO CAMPO         1      0  \n",
       "173               CAMPINAS         1      1  \n",
       "174  SAO BERNARDO DO CAMPO         1      0  "
      ]
     },
     "execution_count": 23,
     "metadata": {},
     "output_type": "execute_result"
    }
   ],
   "source": [
    "df_ajustado.head()"
   ]
  },
  {
   "cell_type": "code",
   "execution_count": 24,
   "metadata": {},
   "outputs": [
    {
     "name": "stdout",
     "output_type": "stream",
     "text": [
      "<class 'pandas.core.frame.DataFrame'>\n",
      "Index: 38759 entries, 169 to 1209003\n",
      "Data columns (total 38 columns):\n",
      " #   Column      Non-Null Count  Dtype  \n",
      "---  ------      --------------  -----  \n",
      " 0   INSTITU     38759 non-null  int64  \n",
      " 1   DSCINST     38759 non-null  object \n",
      " 2   ESCOLARI    38759 non-null  int64  \n",
      " 3   IDADE       38759 non-null  int64  \n",
      " 4   SEXO        38759 non-null  int64  \n",
      " 5   IBGE        38759 non-null  int64  \n",
      " 6   CATEATEND   38759 non-null  int64  \n",
      " 7   DIAGPREV    38759 non-null  int64  \n",
      " 8   TOPO        38759 non-null  object \n",
      " 9   MORFO       38759 non-null  int64  \n",
      " 10  CIDO        38759 non-null  float64\n",
      " 11  DESCIDO     38759 non-null  object \n",
      " 12  EC          38759 non-null  object \n",
      " 13  ECGRUP      38759 non-null  object \n",
      " 14  NENHUM      38759 non-null  int64  \n",
      " 15  CIRURGIA    38759 non-null  int64  \n",
      " 16  RADIO       38759 non-null  int64  \n",
      " 17  QUIMIO      38759 non-null  int64  \n",
      " 18  IMUNO       38759 non-null  int64  \n",
      " 19  OUTROS      38759 non-null  int64  \n",
      " 20  NENHUMAPOS  38759 non-null  int64  \n",
      " 21  CIRURAPOS   38759 non-null  int64  \n",
      " 22  RADIOAPOS   38759 non-null  int64  \n",
      " 23  QUIMIOAPOS  38759 non-null  int64  \n",
      " 24  IMUNOAPOS   38759 non-null  int64  \n",
      " 25  OUTROAPOS   38759 non-null  int64  \n",
      " 26  ULTINFO     38759 non-null  int64  \n",
      " 27  CONSDIAG    38759 non-null  int64  \n",
      " 28  TRATCONS    38759 non-null  object \n",
      " 29  DIAGTRAT    38759 non-null  object \n",
      " 30  ANODIAG     38759 non-null  int64  \n",
      " 31  DRS         38759 non-null  object \n",
      " 32  IBGEATEN    38759 non-null  int64  \n",
      " 33  DRSINST     38759 non-null  object \n",
      " 34  RRASINST    38759 non-null  object \n",
      " 35  CIDADEINST  38759 non-null  object \n",
      " 36  HABILIT2    38759 non-null  int64  \n",
      " 37  OBITO       38759 non-null  int64  \n",
      "dtypes: float64(1), int64(26), object(11)\n",
      "memory usage: 11.5+ MB\n"
     ]
    }
   ],
   "source": [
    "df_ajustado.info()\n",
    "#Colunas com variavéis categóricas devem ser tranformadas em numéricas, existem 9 colunas categóricas"
   ]
  },
  {
   "cell_type": "code",
   "execution_count": 25,
   "metadata": {},
   "outputs": [
    {
     "data": {
      "text/plain": [
       "INSTITU       0\n",
       "DSCINST       0\n",
       "ESCOLARI      0\n",
       "IDADE         0\n",
       "SEXO          0\n",
       "IBGE          0\n",
       "CATEATEND     0\n",
       "DIAGPREV      0\n",
       "TOPO          0\n",
       "MORFO         0\n",
       "CIDO          0\n",
       "DESCIDO       0\n",
       "EC            0\n",
       "ECGRUP        0\n",
       "NENHUM        0\n",
       "CIRURGIA      0\n",
       "RADIO         0\n",
       "QUIMIO        0\n",
       "IMUNO         0\n",
       "OUTROS        0\n",
       "NENHUMAPOS    0\n",
       "CIRURAPOS     0\n",
       "RADIOAPOS     0\n",
       "QUIMIOAPOS    0\n",
       "IMUNOAPOS     0\n",
       "OUTROAPOS     0\n",
       "ULTINFO       0\n",
       "CONSDIAG      0\n",
       "TRATCONS      0\n",
       "DIAGTRAT      0\n",
       "ANODIAG       0\n",
       "DRS           0\n",
       "IBGEATEN      0\n",
       "DRSINST       0\n",
       "RRASINST      0\n",
       "CIDADEINST    0\n",
       "HABILIT2      0\n",
       "OBITO         0\n",
       "dtype: int64"
      ]
     },
     "execution_count": 25,
     "metadata": {},
     "output_type": "execute_result"
    }
   ],
   "source": [
    "df_ajustado.isnull().sum()\n",
    "#Não existem colunas com Nans, considerarei isto para o pré-processamento"
   ]
  },
  {
   "cell_type": "code",
   "execution_count": 26,
   "metadata": {},
   "outputs": [
    {
     "name": "stdout",
     "output_type": "stream",
     "text": [
      "Número de outliers por coluna:\n",
      "INSTITU: 9843 outliers\n",
      "ESCOLARI: 0 outliers\n",
      "IDADE: 358 outliers\n",
      "SEXO: 0 outliers\n",
      "IBGE: 0 outliers\n",
      "CATEATEND: 0 outliers\n",
      "DIAGPREV: 0 outliers\n",
      "MORFO: 1325 outliers\n",
      "CIDO: 1325 outliers\n",
      "NENHUM: 6639 outliers\n",
      "CIRURGIA: 7381 outliers\n",
      "RADIO: 0 outliers\n",
      "QUIMIO: 0 outliers\n",
      "IMUNO: 174 outliers\n",
      "OUTROS: 2424 outliers\n",
      "NENHUMAPOS: 1739 outliers\n",
      "CIRURAPOS: 74 outliers\n",
      "RADIOAPOS: 730 outliers\n",
      "QUIMIOAPOS: 323 outliers\n",
      "IMUNOAPOS: 12 outliers\n",
      "OUTROAPOS: 211 outliers\n",
      "ULTINFO: 7579 outliers\n",
      "CONSDIAG: 6061 outliers\n",
      "ANODIAG: 0 outliers\n",
      "IBGEATEN: 0 outliers\n",
      "HABILIT2: 2102 outliers\n",
      "OBITO: 3792 outliers\n"
     ]
    }
   ],
   "source": [
    "outliers_summary = {}\n",
    "for column in df_ajustado.select_dtypes(include=['float64', 'int64']):\n",
    "    Q1 = df_ajustado[column].quantile(0.25)\n",
    "    Q3 = df_ajustado[column].quantile(0.75)\n",
    "    IQR = Q3 - Q1\n",
    "    limite_inferior = Q1 - 1.5 * IQR\n",
    "    limite_superior = Q3 + 1.5 * IQR\n",
    "    num_outliers = df_ajustado[(df_ajustado[column] < limite_inferior) | (df_ajustado[column] > limite_superior)].shape[0]\n",
    "    outliers_summary[column] = num_outliers\n",
    "print(\"Número de outliers por coluna:\")\n",
    "for column, count in outliers_summary.items():\n",
    "    print(f\"{column}: {count} outliers\")\n",
    "#Analisdando os outliers porém se concluiu que apenas IDADE há outliers o resto está desbalanceado"
   ]
  },
  {
   "cell_type": "code",
   "execution_count": 27,
   "metadata": {},
   "outputs": [],
   "source": [
    "Q1 = df_ajustado['IDADE'].quantile(0.25)  \n",
    "Q3 = df_ajustado['IDADE'].quantile(0.75)  \n",
    "IQR = Q3 - Q1  \n",
    "limite_inferior = Q1 - 1.5 * IQR\n",
    "limite_superior = Q3 + 1.5 * IQR\n",
    "media = df_ajustado['IDADE'].mean()\n",
    "df_ajustado['IDADE'] = df_ajustado['IDADE'].apply(lambda x: media if x < limite_inferior or x > limite_superior else x)\n",
    "#Retirando os outliers e substituindo pela média"
   ]
  },
  {
   "cell_type": "code",
   "execution_count": 28,
   "metadata": {},
   "outputs": [],
   "source": [
    "df_ajustado['TRATCONS'] = pd.to_numeric(df_ajustado['TRATCONS'], errors='coerce')\n",
    "median_value = df_ajustado['TRATCONS'].median()\n",
    "df_ajustado.loc[df_ajustado['TRATCONS'].isna(), 'TRATCONS'] = median_value\n",
    "df_ajustado['DIAGTRAT'] = pd.to_numeric(df_ajustado['DIAGTRAT'], errors='coerce')\n",
    "median_value = df_ajustado['DIAGTRAT'].median()\n",
    "df_ajustado.loc[df_ajustado['DIAGTRAT'].isna(), 'DIAGTRAT'] = median_value\n",
    "#substituindo os locais com \"Não tratou\" pela média e criando assim uma coluna numérica"
   ]
  },
  {
   "cell_type": "code",
   "execution_count": 29,
   "metadata": {},
   "outputs": [],
   "source": [
    "df_ajustado['DRS'] = df_ajustado['DRS'].astype(np.int64)\n",
    "df_ajustado['DRSINST'] = df_ajustado['DRSINST'].astype(np.int64)\n",
    "#tranformando as colunas em numéricas"
   ]
  },
  {
   "cell_type": "code",
   "execution_count": 30,
   "metadata": {},
   "outputs": [],
   "source": [
    "label_encoder = LabelEncoder()\n",
    "df_ajustado['DSCINST'] = label_encoder.fit_transform(df_ajustado['DSCINST'])\n",
    "df_ajustado['TOPO'] = label_encoder.fit_transform(df_ajustado['TOPO'])\n",
    "df_ajustado['DESCIDO'] = label_encoder.fit_transform(df_ajustado['DESCIDO'])\n",
    "df_ajustado['EC'] = label_encoder.fit_transform(df_ajustado['EC'])\n",
    "df_ajustado['ECGRUP'] = label_encoder.fit_transform(df_ajustado['ECGRUP'])\n",
    "df_ajustado['RRASINST'] = label_encoder.fit_transform(df_ajustado['RRASINST'])\n",
    "df_ajustado['CIDADEINST'] = label_encoder.fit_transform(df_ajustado['CIDADEINST'])\n",
    "#transformando as colunaas em numéricas com a técnica Label Enconding"
   ]
  },
  {
   "cell_type": "code",
   "execution_count": 31,
   "metadata": {},
   "outputs": [
    {
     "name": "stdout",
     "output_type": "stream",
     "text": [
      "<class 'pandas.core.frame.DataFrame'>\n",
      "Index: 38759 entries, 169 to 1209003\n",
      "Data columns (total 38 columns):\n",
      " #   Column      Non-Null Count  Dtype  \n",
      "---  ------      --------------  -----  \n",
      " 0   INSTITU     38759 non-null  int64  \n",
      " 1   DSCINST     38759 non-null  int64  \n",
      " 2   ESCOLARI    38759 non-null  int64  \n",
      " 3   IDADE       38759 non-null  float64\n",
      " 4   SEXO        38759 non-null  int64  \n",
      " 5   IBGE        38759 non-null  int64  \n",
      " 6   CATEATEND   38759 non-null  int64  \n",
      " 7   DIAGPREV    38759 non-null  int64  \n",
      " 8   TOPO        38759 non-null  int64  \n",
      " 9   MORFO       38759 non-null  int64  \n",
      " 10  CIDO        38759 non-null  float64\n",
      " 11  DESCIDO     38759 non-null  int64  \n",
      " 12  EC          38759 non-null  int64  \n",
      " 13  ECGRUP      38759 non-null  int64  \n",
      " 14  NENHUM      38759 non-null  int64  \n",
      " 15  CIRURGIA    38759 non-null  int64  \n",
      " 16  RADIO       38759 non-null  int64  \n",
      " 17  QUIMIO      38759 non-null  int64  \n",
      " 18  IMUNO       38759 non-null  int64  \n",
      " 19  OUTROS      38759 non-null  int64  \n",
      " 20  NENHUMAPOS  38759 non-null  int64  \n",
      " 21  CIRURAPOS   38759 non-null  int64  \n",
      " 22  RADIOAPOS   38759 non-null  int64  \n",
      " 23  QUIMIOAPOS  38759 non-null  int64  \n",
      " 24  IMUNOAPOS   38759 non-null  int64  \n",
      " 25  OUTROAPOS   38759 non-null  int64  \n",
      " 26  ULTINFO     38759 non-null  int64  \n",
      " 27  CONSDIAG    38759 non-null  int64  \n",
      " 28  TRATCONS    38759 non-null  float64\n",
      " 29  DIAGTRAT    38759 non-null  float64\n",
      " 30  ANODIAG     38759 non-null  int64  \n",
      " 31  DRS         38759 non-null  int64  \n",
      " 32  IBGEATEN    38759 non-null  int64  \n",
      " 33  DRSINST     38759 non-null  int64  \n",
      " 34  RRASINST    38759 non-null  int64  \n",
      " 35  CIDADEINST  38759 non-null  int64  \n",
      " 36  HABILIT2    38759 non-null  int64  \n",
      " 37  OBITO       38759 non-null  int64  \n",
      "dtypes: float64(4), int64(34)\n",
      "memory usage: 11.5 MB\n"
     ]
    }
   ],
   "source": [
    "df_ajustado.info()\n",
    "#Todas as categorias foram passadas para numéricas"
   ]
  },
  {
   "cell_type": "code",
   "execution_count": 32,
   "metadata": {},
   "outputs": [],
   "source": [
    "df_ajustado = df_ajustado.drop_duplicates()\n",
    "#retirando colunas duplicadas que podem gerar ruído no treinamento"
   ]
  },
  {
   "cell_type": "code",
   "execution_count": 33,
   "metadata": {},
   "outputs": [],
   "source": [
    "X = df_ajustado.drop(columns=['OBITO'])  \n",
    "y = df_ajustado['OBITO']\n",
    "X_train, X_test, y_train, y_test = train_test_split(X, y, test_size=0.2, random_state=42)\n",
    "smote = SMOTE(random_state=42)\n",
    "X_train_bal, y_train_bal = smote.fit_resample(X_train, y_train)\n",
    "#Separação da coluna obito e divisão de dados em treinamento e teste, além da implementação do SMOTE para ajudar com o desbalanceamento nas colunas\n"
   ]
  },
  {
   "cell_type": "code",
   "execution_count": 34,
   "metadata": {},
   "outputs": [
    {
     "data": {
      "text/plain": [
       "(38737, 38)"
      ]
     },
     "execution_count": 34,
     "metadata": {},
     "output_type": "execute_result"
    }
   ],
   "source": [
    "df_ajustado.shape"
   ]
  },
  {
   "cell_type": "code",
   "execution_count": 38,
   "metadata": {},
   "outputs": [
    {
     "name": "stdout",
     "output_type": "stream",
     "text": [
      "              precision    recall  f1-score   support\n",
      "\n",
      "           0       1.00      1.00      1.00      7019\n",
      "           1       1.00      1.00      1.00       729\n",
      "\n",
      "    accuracy                           1.00      7748\n",
      "   macro avg       1.00      1.00      1.00      7748\n",
      "weighted avg       1.00      1.00      1.00      7748\n",
      "\n"
     ]
    }
   ],
   "source": [
    "rf_model = RandomForestClassifier(class_weight='balanced', random_state=42)\n",
    "cv_scores = cross_val_score(rf_model, X_train_bal, y_train_bal, cv=5, scoring='f1')\n",
    "rf_model.fit(X_train_bal, y_train_bal)\n",
    "y_pred = rf_model.predict(X_test)\n",
    "print(classification_report(y_test, y_pred))"
   ]
  },
  {
   "cell_type": "markdown",
   "metadata": {},
   "source": [
    "Considerações finais:\n",
    "-Graças a muitas variavéis desbalanceadas, foi gerado um overfitting. Para isso poderíamos utilizar um Undersampling e outros métodos.\n",
    "-Para melhor performance os códigos da primeira parte do desafio poderiam ter sido feitos de outra forma, que não o append.\n",
    "-Uma implementação de engineering features, poderia ser satisfatória para o resultado.\n",
    "-Com tudo os interesses para o desafio foram atendidos.\n"
   ]
  }
 ],
 "metadata": {
  "kernelspec": {
   "display_name": "Python 3",
   "language": "python",
   "name": "python3"
  },
  "language_info": {
   "codemirror_mode": {
    "name": "ipython",
    "version": 3
   },
   "file_extension": ".py",
   "mimetype": "text/x-python",
   "name": "python",
   "nbconvert_exporter": "python",
   "pygments_lexer": "ipython3",
   "version": "3.12.6"
  }
 },
 "nbformat": 4,
 "nbformat_minor": 2
}
